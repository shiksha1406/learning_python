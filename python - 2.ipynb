{
 "cells": [
  {
   "cell_type": "code",
   "execution_count": 17,
   "metadata": {},
   "outputs": [
    {
     "name": "stdout",
     "output_type": "stream",
     "text": [
      "[1, 2, 3, 4, 5, 6]\n",
      "[1, 2, 3, 4, 5, 6, ('a', 'b')]\n",
      "[1, 2, 3, 7, 4, 5, 6, ('a', 'b')]\n",
      "[1, 2, 3, 7, 4, 5, 6, ('a', 'b'), 7, 8]\n",
      "[2, 3, 7, 4, 5, 6, ('a', 'b'), 7, 8]\n",
      "[2, 3, 7, 4, 5, 6, ('a', 'b'), 7]\n",
      "[2, 3, 7, 4, 5, 6, ('a', 'b'), 7, 2, 3, 7, 4, 5, 6, ('a', 'b'), 7]\n",
      "54\n",
      "11\n",
      "9\n",
      "1\n",
      "2\n"
     ]
    }
   ],
   "source": [
    "lst=[1,2,3,4,5]\n",
    "lst.append(6)      #append is used to add elements \n",
    "print(lst)\n",
    "lst.append(('a','b'))\n",
    "print(lst)\n",
    "lst.insert(3,7)    #insert is used to add elements in specific order \n",
    "print(lst)\n",
    "lst[2]             #indexing is used to know the index that is place of any paticular element \n",
    "lst.extend([7,8,]) #extend is used to add elements at the end of the list \n",
    "print(lst)\n",
    "lst.pop(0)         #removing the 0th index element from the list \n",
    "print(lst)\n",
    "lst.pop()\n",
    "print(lst)\n",
    "print(lst*2)\n",
    "sakshi = [1,2,3,4,5,6,7,4,5,8,9]\n",
    "print(sum(sakshi))\n",
    "print(len(sakshi))\n",
    "print(max(sakshi))\n",
    "print(min(sakshi))\n",
    "sakshi.index(4,0,8)\n",
    "print(sakshi.count(4))"
   ]
  }
 ],
 "metadata": {
  "kernelspec": {
   "display_name": "Python 3",
   "language": "python",
   "name": "python3"
  },
  "language_info": {
   "codemirror_mode": {
    "name": "ipython",
    "version": 3
   },
   "file_extension": ".py",
   "mimetype": "text/x-python",
   "name": "python",
   "nbconvert_exporter": "python",
   "pygments_lexer": "ipython3",
   "version": "3.11.5"
  }
 },
 "nbformat": 4,
 "nbformat_minor": 2
}
