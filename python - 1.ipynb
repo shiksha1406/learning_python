{
 "cells": [
  {
   "cell_type": "markdown",
   "metadata": {},
   "source": [
    "# Basic of python\n",
    "## Various data types in python  \n",
    "- '#' is used to write comments "
   ]
  },
  {
   "cell_type": "code",
   "execution_count": 2,
   "metadata": {},
   "outputs": [
    {
     "name": "stdout",
     "output_type": "stream",
     "text": [
      "My first name is Shiksha and last name is Jha.\n",
      "My first name is Jha and last name is Shiksha.\n"
     ]
    }
   ],
   "source": [
    "#Variable assignment \n",
    "first_name =\"Shiksha\"\n",
    "last_name =\"Jha\"\n",
    "print(\"My first name is {} and last name is {}.\" .format(first_name,last_name))\n",
    "print(\"My first name is {last} and last name is {first}.\" .format(first=first_name, last=last_name))"
   ]
  },
  {
   "cell_type": "code",
   "execution_count": 3,
   "metadata": {},
   "outputs": [
    {
     "data": {
      "text/plain": [
       "7"
      ]
     },
     "execution_count": 3,
     "metadata": {},
     "output_type": "execute_result"
    }
   ],
   "source": [
    "#Length of the character \n",
    "len(\"shiksha\")"
   ]
  },
  {
   "cell_type": "code",
   "execution_count": 4,
   "metadata": {},
   "outputs": [
    {
     "name": "stdout",
     "output_type": "stream",
     "text": [
      "<class 'str'>\n",
      "<class 'int'>\n",
      "<class 'float'>\n",
      "<class 'bool'>\n",
      "<class 'list'>\n"
     ]
    }
   ],
   "source": [
    "#Type function\n",
    "print(type(\"shiksha\"))\n",
    "print(type(7))\n",
    "print(type(0.5))\n",
    "print(type(True))\n",
    "print(type([1,2,5,6,0.5]))"
   ]
  },
  {
   "cell_type": "code",
   "execution_count": 5,
   "metadata": {},
   "outputs": [
    {
     "name": "stdout",
     "output_type": "stream",
     "text": [
      "9\n",
      "45\n",
      "390625\n",
      "5.0\n",
      "91\n"
     ]
    }
   ],
   "source": [
    "#Arthemetic operations \n",
    "print(2+7)\n",
    "print(5*9)\n",
    "print(5**8)\n",
    "print(25/5)\n",
    "print(96-5)"
   ]
  },
  {
   "cell_type": "code",
   "execution_count": 6,
   "metadata": {},
   "outputs": [
    {
     "name": "stdout",
     "output_type": "stream",
     "text": [
      "True\n",
      "False\n",
      "False\n",
      "True\n",
      "False\n",
      "False\n",
      "False\n",
      "True\n",
      "True\n"
     ]
    }
   ],
   "source": [
    "#Boolean variable \n",
    "my_str='Shiksha123'\n",
    "\n",
    "print(my_str .isalnum())         #all characters are either alphabet or numbers\n",
    "print(my_str .isalpha())         #all are alphabet\n",
    "print(my_str .isdigit())         #all are digits\n",
    "print(my_str .istitle())         #word start with upper case and remaining is lowercase\n",
    "print(my_str .isupper())         #all letters are in uppercase\n",
    "print(my_str .islower())         #all letters are in lowercase \n",
    "print(my_str .isspace())         #all characters are spacing character\n",
    "print(my_str .endswith('3'))     #ends with 3\n",
    "print(my_str .startswith('S'))   #ends with S"
   ]
  },
  {
   "cell_type": "code",
   "execution_count": 7,
   "metadata": {},
   "outputs": [
    {
     "name": "stdout",
     "output_type": "stream",
     "text": [
      "True\n"
     ]
    }
   ],
   "source": [
    "#Boolean and logical operators\n",
    "print (bool(my_str .isalpha or my_str .isalnum))\n",
    "\n",
    "\n",
    "# True and True = True\n",
    "# True and False = False \n",
    "# True or False = True \n",
    "# True or True = True "
   ]
  }
 ],
 "metadata": {
  "kernelspec": {
   "display_name": "Python 3",
   "language": "python",
   "name": "python3"
  },
  "language_info": {
   "codemirror_mode": {
    "name": "ipython",
    "version": 3
   },
   "file_extension": ".py",
   "mimetype": "text/x-python",
   "name": "python",
   "nbconvert_exporter": "python",
   "pygments_lexer": "ipython3",
   "version": "3.11.9"
  }
 },
 "nbformat": 4,
 "nbformat_minor": 2
}
